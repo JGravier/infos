{
  "cells": [
    {
      "cell_type": "raw",
      "metadata": {},
      "source": [
        "---\n",
        "image: jgravier.png\n",
        "about:\n",
        "  id: hero-heading\n",
        "  template: jolla\n",
        "  image-shape: rounded\n",
        "  image-width: 15em\n",
        "---"
      ],
      "id": "0fd19e64"
    },
    {
      "cell_type": "markdown",
      "metadata": {},
      "source": [
        "```{css, echo = FALSE}\n",
        ".justify {\n",
        "  text-align: justify !important\n",
        "}\n",
        "```\n",
        "\n",
        "\n",
        "\n",
        "::: {.justify}\n",
        "#### Actuellement\n",
        "Je suis chercheuse post-doctorante à l'EHESS dans le cadre du projet <a href=\"https://soduco.geohistoricaldata.org/\" target=\"_blank\">ANR SoDUCo</a> au sein duquel j’approfondis la co-évolution de diverses activités urbaines dans Paris au fil du 19e s.\n",
        "\n",
        "#### Objets de recherche\n",
        "De manière générale, j’étudie les dynamiques de durabilité des peuplements en système à travers deux questions principales : comment les institutions politiques façonnent-elles les relations sociales et dans quelle mesure cela influence-t-il l’organisation matérielle de l’espace sur le temps long ? comment la production de l'espace matériel à un moment donné par les sociétés peut-elle provoquer d'autres processus, plus tard, en particulier sur des durées particulièrement longues ? Pour mieux y répondre, j’analyse des systèmes de peuplement à différentes périodes chronologiques et dans différents endroits du monde, principalement à des échelles locales à régionales. Dans ce cadre, mon objectif est d'identifier des formes d'invariance des processus sociaux et spatiaux.\n",
        ":::"
      ],
      "id": "85ca0250"
    }
  ],
  "metadata": {
    "kernelspec": {
      "display_name": "Python 3",
      "language": "python",
      "name": "python3"
    }
  },
  "nbformat": 4,
  "nbformat_minor": 5
}